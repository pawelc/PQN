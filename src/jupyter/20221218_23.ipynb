{
 "cells": [
  {
   "cell_type": "markdown",
   "id": "3da8a65b-1487-42b3-9b63-76688ef1c711",
   "metadata": {},
   "source": [
    "# PQN #023: Your risk management is broken: Fix it with CVaR"
   ]
  },
  {
   "cell_type": "code",
   "execution_count": 1,
   "id": "217dd516-84e6-4cfb-8830-308f2f7bcfa5",
   "metadata": {},
   "outputs": [],
   "source": [
    "import numpy as np\n",
    "import pandas as pd\n",
    "import yfinance as yf\n",
    "\n",
    "import matplotlib.pyplot as plt"
   ]
  },
  {
   "cell_type": "markdown",
   "id": "94e7f917-a7ec-4479-a558-2ae01adfd079",
   "metadata": {},
   "source": [
    "I’m going to use 90 stocks in the S&P 100 index. Grab the data and compute the returns"
   ]
  },
  {
   "cell_type": "code",
   "execution_count": 8,
   "id": "8efb066c-76f3-4f10-b7c6-355411bd86c5",
   "metadata": {},
   "outputs": [
    {
     "name": "stdout",
     "output_type": "stream",
     "text": [
      "[*********************100%***********************]  90 of 90 completed\n"
     ]
    }
   ],
   "source": [
    "oex = ['MMM','T','ABBV','ABT','ACN','ALL','GOOGL','GOOG','MO','AMZN','AXP','AIG','AMGN','AAPL','BAC',\n",
    "       'BRK-B','BIIB','BLK','BA','BMY','CVS','COF','CAT','CVX','CSCO','C','KO','CL','CMCSA',\n",
    "       'COP','DHR','DUK','DD','EMC','EMR','EXC','XOM','META','FDX','F','GD','GE','GM','GILD',\n",
    "       'GS','HAL','HD','HON','INTC','IBM','JPM','JNJ','KMI','LLY','LMT','LOW','MA','MCD','MDT','MRK',\n",
    "       'MET','MSFT','MS','NKE','NEE','OXY','ORCL','PYPL','PEP','PFE','PM','PG','QCOM',\n",
    "       'SLB','SPG','SO','SBUX','TGT','TXN','BK','USB','UNP','UPS','UNH','VZ','V','WMT',\n",
    "       'WBA','DIS','WFC']\n",
    "\n",
    "num_stocks = len(oex)\n",
    "\n",
    "data = yf.download(oex, start='2014-01-01', end='2016-04-04')\n",
    "\n",
    "returns = data['Adj Close'].pct_change()\n",
    "returns = returns - returns.mean(skipna=True) # de-mean the returns"
   ]
  },
  {
   "cell_type": "markdown",
   "id": "1506da7c-48ce-43e2-ab3d-d960f8a8c6d3",
   "metadata": {},
   "source": [
    "Create a mock portfolio by generating random weights and multiplying them by the returns. You can use your actual weights to represent your own portfolio."
   ]
  },
  {
   "cell_type": "code",
   "execution_count": 10,
   "id": "780732ed-1334-47df-8b1a-3eb0b1b51415",
   "metadata": {},
   "outputs": [
    {
     "data": {
      "text/plain": [
       "<BarContainer object of 90 artists>"
      ]
     },
     "execution_count": 10,
     "metadata": {},
     "output_type": "execute_result"
    },
    {
     "data": {
      "image/png": "[encoded data removed]",
      "text/plain": [
       "<Figure size 640x480 with 1 Axes>"
      ]
     },
     "metadata": {},
     "output_type": "display_data"
    }
   ],
   "source": [
    "def scale(x):\n",
    "    return x / np.sum(np.abs(x))\n",
    "\n",
    "weights = scale(np.random.random(num_stocks))\n",
    "plt.bar(np.arange(num_stocks),weights)"
   ]
  },
  {
   "cell_type": "markdown",
   "id": "0b4eb940-2621-4445-b5dc-83fbc29d1d80",
   "metadata": {},
   "source": [
    "## Step 2: Compute VaR and CVaR\n",
    "Start by building a function to compute VaR so you can compare it to CVaR."
   ]
  },
  {
   "cell_type": "code",
   "execution_count": 11,
   "id": "a1daafaf-6574-409f-bc2a-bcc21d553879",
   "metadata": {},
   "outputs": [],
   "source": [
    "def value_at_risk(\n",
    "    value_invested, \n",
    "    returns, weights, \n",
    "    alpha=0.95, \n",
    "    lookback_days=500\n",
    "):\n",
    "    returns = returns.fillna(0.0)\n",
    "    portfolio_returns = returns.iloc[-lookback_days:].dot(weights)\n",
    "    \n",
    "    return np.percentile(portfolio_returns, 100 * (1-alpha)) * value_invested"
   ]
  },
  {
   "cell_type": "markdown",
   "id": "1c51a53a-0594-4b6f-b316-ee75a6d5b59a",
   "metadata": {},
   "source": [
    "First, replace any NaNs with 0.0s in the DataFrame of returns. Then take the last few days of returns and multiply them by the portfolio weights to create portfolio returns. Finally, compute VaR by taking the 5th percentile of returns and multiplying it by the value invested. This gets the amount you can expect to lose in one day with 95% confidence.\n",
    "\n",
    "This is the main difference between VaR and CVaR. VaR represents a worst-case loss associated with a probability and a time horizon. CVaR is the expected loss if that worst-case threshold is crossed. In other words, CVaR quantifies the expected losses that occur beyond the VaR cutoff. VaR only measures the cutoff."
   ]
  },
  {
   "cell_type": "code",
   "execution_count": 13,
   "id": "0568d816-bc57-4721-be16-fcfac9049f3a",
   "metadata": {},
   "outputs": [],
   "source": [
    "def cvar(\n",
    "    value_invested, \n",
    "    returns, \n",
    "    weights, \n",
    "    alpha=0.95, \n",
    "    lookback_days=500\n",
    "):\n",
    "    var = value_at_risk(value_invested, returns, weights, alpha, lookback_days=lookback_days)\n",
    "    \n",
    "    returns = returns.fillna(0.0)\n",
    "    portfolio_returns = returns.iloc[-lookback_days:].dot(weights)\n",
    "    var_pct_loss = var / value_invested\n",
    "    \n",
    "    return np.nanmean(portfolio_returns[portfolio_returns < var_pct_loss]) * value_invested"
   ]
  },
  {
   "cell_type": "markdown",
   "id": "9ba6a70a-7ced-417a-9950-298871988614",
   "metadata": {},
   "source": [
    "Compute VaR to get the cutoff point on the distribution that equals the 5th percentile. Then compute the portfolio returns and convert VaR back to a percentage instead of a dollar amount. To compute CVaR, take the average of all returns less than VaR and multiply by the invested value.\n",
    "\n",
    "Taking the average of all returns less than VaR is the same as taking the area of the distribution left of that cutoff point.\n",
    "\n",
    "## Step 3: Vizualize the difference between the two\n",
    "Compute the CVaR and VaR of the portfolio and note the difference."
   ]
  },
  {
   "cell_type": "code",
   "execution_count": 18,
   "id": "68776836-18e5-4342-8e67-e9fc5cb93e96",
   "metadata": {},
   "outputs": [
    {
     "name": "stdout",
     "output_type": "stream",
     "text": [
      "-202.0017074188495\n",
      "-154.25476847697092\n"
     ]
    }
   ],
   "source": [
    "value_invested=10000.0\n",
    "\n",
    "print(cvar(value_invested, returns, weights))\n",
    "print(value_at_risk(value_invested, returns, weights))"
   ]
  },
  {
   "cell_type": "markdown",
   "id": "d3ef8011-4b73-4a92-b1ab-ac8bec566ea3",
   "metadata": {},
   "source": [
    "CVaR is a bigger negative number than VaR. The difference between the two is the extra information CVaR captures by taking the average of all returns less than VaR. If you are dependent on VaR for risk management, you miss that information.\n",
    "\n",
    "If this still isn’t clear, a chart will help."
   ]
  },
  {
   "cell_type": "code",
   "execution_count": 19,
   "id": "d4f87a13-85df-410d-9765-d30d620aa4ff",
   "metadata": {},
   "outputs": [
    {
     "data": {
      "text/plain": [
       "Text(0, 0.5, 'Observation Frequency')"
      ]
     },
     "execution_count": 19,
     "metadata": {},
     "output_type": "execute_result"
    },
    {
     "data": {
      "image/png": "[encoded data removed]",
      "text/plain": [
       "<Figure size 640x480 with 1 Axes>"
      ]
     },
     "metadata": {},
     "output_type": "display_data"
    }
   ],
   "source": [
    "lookback_days = 500\n",
    "\n",
    "portfolio_returns = returns.fillna(0.0).iloc[-lookback_days:].dot(weights)\n",
    "\n",
    "portfolio_VaR = value_at_risk(value_invested, returns, weights)\n",
    "portfolio_VaR_return = portfolio_VaR / value_invested\n",
    "\n",
    "portfolio_CVaR = cvar(value_invested, returns, weights)\n",
    "portfolio_CVaR_return = portfolio_CVaR / value_invested\n",
    "\n",
    "plt.hist(portfolio_returns[portfolio_returns > portfolio_VaR_return], bins=20)\n",
    "plt.hist(portfolio_returns[portfolio_returns < portfolio_VaR_return], bins=10)\n",
    "plt.axvline(portfolio_VaR_return, color='red', linestyle='solid')\n",
    "plt.axvline(portfolio_CVaR_return, color='red', linestyle='dashed')\n",
    "plt.legend(['VaR', 'CVaR', 'Returns', 'Returns < VaR'])\n",
    "plt.title('Historical VaR and CVaR')\n",
    "plt.xlabel('Return')\n",
    "plt.ylabel('Observation Frequency')"
   ]
  },
  {
   "cell_type": "markdown",
   "id": "0b80fe6b-3231-4f52-9ba2-a65d800ea818",
   "metadata": {},
   "source": [
    "The dashed line is CVaR and the solid line is VaR. VaR pinpoints the negative return at the 5th percentile. CVaR averages all the losses left of VaR (the orange bars), including the large negative return.\n",
    "\n",
    "Returns are not normally distributed. CVaR captures it."
   ]
  }
 ],
 "metadata": {
  "kernelspec": {
   "display_name": "Python 3 (ipykernel)",
   "language": "python",
   "name": "python3"
  },
  "language_info": {
   "codemirror_mode": {
    "name": "ipython",
    "version": 3
   },
   "file_extension": ".py",
   "mimetype": "text/x-python",
   "name": "python",
   "nbconvert_exporter": "python",
   "pygments_lexer": "ipython3",
   "version": "3.11.1"
  }
 },
 "nbformat": 4,
 "nbformat_minor": 5
}
